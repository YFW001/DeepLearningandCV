{
 "cells": [
  {
   "cell_type": "code",
   "execution_count": 1,
   "metadata": {},
   "outputs": [
    {
     "name": "stdout",
     "output_type": "stream",
     "text": [
      "E:\\learn_python\n"
     ]
    }
   ],
   "source": [
    "import os                                                #查看当前工作目录\n",
    "print (os.getcwd())"
   ]
  },
  {
   "cell_type": "code",
   "execution_count": 2,
   "metadata": {},
   "outputs": [],
   "source": [
    "import cv2\n",
    "import random\n",
    "import numpy as np\n",
    "from matplotlib import pyplot as plt"
   ]
  },
  {
   "cell_type": "code",
   "execution_count": 3,
   "metadata": {},
   "outputs": [],
   "source": [
    "img_grey = cv2.imread('E:/learn_python/lenna.jpg', 0)\n",
    "cv2.imshow('lenna', img_grey)\n",
    "key = cv2.waitKey()\n",
    "if key == 27:                                       #Esc对应27键，此处按Esc退出\n",
    "    cv2.destroyAllWindows()"
   ]
  },
  {
   "cell_type": "code",
   "execution_count": 4,
   "metadata": {},
   "outputs": [
    {
     "name": "stdout",
     "output_type": "stream",
     "text": [
      "[[161 161 161 ... 174 151 122]\n",
      " [163 163 163 ... 171 152 127]\n",
      " [163 163 163 ... 177 159 137]\n",
      " ...\n",
      " [ 45  36  50 ... 109  99  89]\n",
      " [ 38  35  54 ...  90 101 112]\n",
      " [ 47  43  59 ...  96 105 118]]\n"
     ]
    }
   ],
   "source": [
    "print(img_grey)                                  #以矩阵形式展示灰度图"
   ]
  },
  {
   "cell_type": "code",
   "execution_count": 5,
   "metadata": {},
   "outputs": [
    {
     "name": "stdout",
     "output_type": "stream",
     "text": [
      "uint8\n"
     ]
    }
   ],
   "source": [
    "print(img_grey.dtype)                      #灰度矩阵中的数据类型"
   ]
  },
  {
   "cell_type": "code",
   "execution_count": 6,
   "metadata": {},
   "outputs": [
    {
     "name": "stdout",
     "output_type": "stream",
     "text": [
      "(512, 512)\n"
     ]
    }
   ],
   "source": [
    "print(img_grey.shape)                      #图像的大小(像素) 高x宽"
   ]
  },
  {
   "cell_type": "code",
   "execution_count": 7,
   "metadata": {},
   "outputs": [],
   "source": [
    "img = cv2.imread('E:/learn_python/lenna.jpg')         #打开原图，而不是灰度图\n",
    "cv2.imshow('lenna', img)\n",
    "key = cv2.waitKey()\n",
    "if key == 27:                                   #Esc对应27键，此处按Esc退出\n",
    "    cv2.destroyAllWindows()"
   ]
  },
  {
   "cell_type": "code",
   "execution_count": 8,
   "metadata": {},
   "outputs": [
    {
     "name": "stdout",
     "output_type": "stream",
     "text": [
      "(512, 512, 3)\n"
     ]
    }
   ],
   "source": [
    "print(img.shape)                             #彩色图拥有3个通道"
   ]
  },
  {
   "cell_type": "code",
   "execution_count": 9,
   "metadata": {},
   "outputs": [
    {
     "name": "stdout",
     "output_type": "stream",
     "text": [
      "[[[124 133 231]\n",
      "  [124 133 231]\n",
      "  [124 133 231]\n",
      "  ...\n",
      "  [133 150 237]\n",
      "  [108 128 213]\n",
      "  [ 79  99 184]]\n",
      "\n",
      " [[126 135 233]\n",
      "  [126 135 233]\n",
      "  [126 135 233]\n",
      "  ...\n",
      "  [132 146 234]\n",
      "  [113 128 214]\n",
      "  [ 86 103 189]]\n",
      "\n",
      " [[126 135 233]\n",
      "  [126 135 233]\n",
      "  [124 135 233]\n",
      "  ...\n",
      "  [143 151 240]\n",
      "  [125 134 221]\n",
      "  [102 112 199]]\n",
      "\n",
      " ...\n",
      "\n",
      " [[ 50  23  86]\n",
      "  [ 41  14  77]\n",
      "  [ 57  26  93]\n",
      "  ...\n",
      "  [ 84  77 182]\n",
      "  [ 72  66 173]\n",
      "  [ 61  56 165]]\n",
      "\n",
      " [[ 42  17  79]\n",
      "  [ 40  13  76]\n",
      "  [ 61  30  97]\n",
      "  ...\n",
      "  [ 63  57 166]\n",
      "  [ 73  67 178]\n",
      "  [ 82  79 189]]\n",
      "\n",
      " [[ 51  26  88]\n",
      "  [ 48  21  84]\n",
      "  [ 66  35 102]\n",
      "  ...\n",
      "  [ 68  62 173]\n",
      "  [ 75  71 184]\n",
      "  [ 86  84 197]]]\n"
     ]
    }
   ],
   "source": [
    "print(img)                                       #相当于将上面灰度矩阵中的每个数替换成一个三元数组"
   ]
  },
  {
   "cell_type": "code",
   "execution_count": 10,
   "metadata": {},
   "outputs": [],
   "source": [
    "img_crop = img[0:100, 0:200]         #图像像素剪裁\n",
    "cv2.imshow('img_crop', img_crop) #第一个用单引号括起来的参数是窗口标题\n",
    "key = cv2.waitKey()\n",
    "if key == 27:                                   #Esc对应27键，此处按Esc退出\n",
    "    cv2.destroyAllWindows()"
   ]
  },
  {
   "cell_type": "code",
   "execution_count": 11,
   "metadata": {},
   "outputs": [],
   "source": [
    "B, G, R = cv2.split(img)                   #从原图中分离色彩的灰度\n",
    "cv2.imshow('B', B)\n",
    "cv2.imshow('G', G)\n",
    "cv2.imshow('R', R)                           #分别打印原图中B,G,R颜色的灰(l亮)度图\n",
    "key = cv2.waitKey()\n",
    "if key == 27:                                   #Esc对应27键，此处按Esc退出\n",
    "    cv2.destroyAllWindows()"
   ]
  },
  {
   "cell_type": "code",
   "execution_count": 12,
   "metadata": {},
   "outputs": [
    {
     "name": "stdout",
     "output_type": "stream",
     "text": [
      "[[124 124 124 ... 133 108  79]\n",
      " [126 126 126 ... 132 113  86]\n",
      " [126 126 124 ... 143 125 102]\n",
      " ...\n",
      " [ 50  41  57 ...  84  72  61]\n",
      " [ 42  40  61 ...  63  73  82]\n",
      " [ 51  48  66 ...  68  75  86]]\n",
      "19\n",
      "[[143 143 143 ... 152 127  98]\n",
      " [145 145 145 ... 151 132 105]\n",
      " [145 145 143 ... 162 144 121]\n",
      " ...\n",
      " [ 69  60  76 ... 103  91  80]\n",
      " [ 61  59  80 ...  82  92 101]\n",
      " [ 70  67  85 ...  87  94 105]]\n",
      "[[133 133 133 ... 150 128  99]\n",
      " [135 135 135 ... 146 128 103]\n",
      " [135 135 135 ... 151 134 112]\n",
      " ...\n",
      " [ 23  14  26 ...  77  66  56]\n",
      " [ 17  13  30 ...  57  67  79]\n",
      " [ 26  21  35 ...  62  71  84]]\n",
      "14\n",
      "[[147 147 147 ... 164 142 113]\n",
      " [149 149 149 ... 160 142 117]\n",
      " [149 149 149 ... 165 148 126]\n",
      " ...\n",
      " [ 37  28  40 ...  91  80  70]\n",
      " [ 31  27  44 ...  71  81  93]\n",
      " [ 40  35  49 ...  76  85  98]]\n",
      "[[231 231 231 ... 237 213 184]\n",
      " [233 233 233 ... 234 214 189]\n",
      " [233 233 233 ... 240 221 199]\n",
      " ...\n",
      " [ 86  77  93 ... 182 173 165]\n",
      " [ 79  76  97 ... 166 178 189]\n",
      " [ 88  84 102 ... 173 184 197]]\n",
      "27\n",
      "[[  2   2   2 ...   8 240 211]\n",
      " [  4   4   4 ...   5 241 216]\n",
      " [  4   4   4 ...  11 248 226]\n",
      " ...\n",
      " [113 104 120 ... 209 200 192]\n",
      " [106 103 124 ... 193 205 216]\n",
      " [115 111 129 ... 200 211 224]]\n"
     ]
    }
   ],
   "source": [
    "def random_change_color(img):         #定义一个函数rand_change_color(img)\n",
    "    B, G, R = cv2.split(img)                #分离颜色\n",
    "    \n",
    "    def rand_color(A):\n",
    "        print(A)\n",
    "        rand = random.randint(-50, 50)#产生-50到50的随机整数\n",
    "        print (rand)\n",
    "        if rand == 0:\n",
    "            pass\n",
    "        else:\n",
    "            #lim = 255 - b_rand\n",
    "            #B[(B + b_rand) > 255] = 255#B是一个矩阵，后面的方括号是其索引，可以使用判断语句\n",
    "            #B[(B + b_rand) <= 255] = (B[(B + b_rand) <= 255] + b_rand).astype(img.dtype)\n",
    "            #A = (A + rand).astype(img.dtype)\n",
    "            A = A + rand\n",
    "            A[A > 255] = 255\n",
    "            A[A < 0] = 0\n",
    "        A = A.astype(img.dtype)\n",
    "        print (A)\n",
    "        return A\n",
    "\n",
    "    B = rand_color(B)\n",
    "    G = rand_color(G)\n",
    "    R = rand_color(R)\n",
    "    \n",
    "    img_merge = cv2.merge((B, G, R))#注意此处为两层括号，(B,G,R)整体为一个参数\n",
    "    return img_merge\n",
    "\n",
    "img1 = cv2.imread('E:/learn_python/lenna.jpg')\n",
    "img_random_color = random_change_color(img1)\n",
    "cv2.imshow('img_random_color',  img_random_color)\n",
    "cv2.imshow('img_ori', img1)\n",
    "key = cv2.waitKey()\n",
    "if key == 27:                                   #Esc对应27键，此处按Esc退出\n",
    "    cv2.destroyAllWindows()"
   ]
  },
  {
   "cell_type": "code",
   "execution_count": 13,
   "metadata": {},
   "outputs": [],
   "source": [
    "img_dark = cv2.imread('E:/learn_python/lenna.jpg')\n",
    "\n",
    "def adjust_gamma(image, gamma=1.0):                #gamma矫正\n",
    "    invGamma = 1.0/gamma\n",
    "    table = []\n",
    "    for i in range(256):\n",
    "        table.append(((i / 255.0) ** invGamma) * 255)\n",
    "    table = np.array(table).astype(\"uint8\")\n",
    "    return cv2.LUT(img_dark, table)\n",
    "\n",
    "img_brighter = adjust_gamma(img_dark, 2)\n",
    "cv2.imshow('img_brighter', img_brighter)\n",
    "cv2.imshow('img_dark', img_dark)\n",
    "key = cv2.waitKey()\n",
    "if key == 27:\n",
    "    cv2.destroyAllWindows()"
   ]
  },
  {
   "cell_type": "code",
   "execution_count": 14,
   "metadata": {},
   "outputs": [
    {
     "data": {
      "image/png": "[encoded data removed]",
      "text/plain": [
       "<Figure size 432x288 with 1 Axes>"
      ]
     },
     "metadata": {
      "needs_background": "light"
     },
     "output_type": "display_data"
    }
   ],
   "source": [
    "# histogram(统计)直方图\n",
    "img_small_brighter = cv2.resize(img_brighter, (int(img_brighter.shape[0]*0.5), int(img_brighter.shape[1]*0.5)))\n",
    "plt.hist(img_brighter.flatten(), 256, [0, 256], color = 'r')              #绘制亮度直方图\n",
    "img_yuv = cv2.cvtColor(img_small_brighter, cv2.COLOR_BGR2YUV)\n",
    "\n",
    "# equalize the histogram of the Y channel 均衡Y通道的直方图\n",
    "img_yuv[:,:,0] = cv2.equalizeHist(img_yuv[:,:,0])                         # 这里只均衡了亮度通道\n",
    "\n",
    "# convert the YUV image back to RGB format将YUV图像转换回RGB格式\n",
    "img_output = cv2.cvtColor(img_yuv, cv2.COLOR_YUV2BGR)    # y: luminance(明亮度), u&v: (色彩饱和度)\n",
    "cv2.imshow('Color input image', img_small_brighter)\n",
    "cv2.imshow('Histogram equalized', img_output)\n",
    "key = cv2.waitKey()\n",
    "if key == 27:\n",
    "    cv2.destroyAllWindows()"
   ]
  },
  {
   "cell_type": "code",
   "execution_count": 15,
   "metadata": {},
   "outputs": [
    {
     "name": "stdout",
     "output_type": "stream",
     "text": [
      "[[  0.8660254    0.5        -93.70250337]\n",
      " [ -0.5          0.8660254  162.29749663]]\n"
     ]
    }
   ],
   "source": [
    "# rotation 旋转\n",
    "M = cv2.getRotationMatrix2D((img.shape[1] / 2, img.shape[0] / 2), 30, 1)  #旋转矩阵(center, angle, scale)\n",
    "print(M)\n",
    "\n",
    "img_rotate = cv2.warpAffine(img, M, (img.shape[1], img.shape[0]))\n",
    "cv2.imshow('rotated_lenna', img_rotate)\n",
    "\n",
    "# set M[0][2] = M[1][2] = 0\n",
    "\n",
    "img_rotate2 = cv2.warpAffine(img, M, (img.shape[1], img.shape[0]))\n",
    "cv2.imshow('rotated_lenna2', img_rotate2)\n",
    "\n",
    "key = cv2.waitKey(0)\n",
    "if key == 27:\n",
    "    cv2.destroyAllWindows()\n",
    "#explain translation"
   ]
  },
  {
   "cell_type": "code",
   "execution_count": 16,
   "metadata": {},
   "outputs": [
    {
     "name": "stdout",
     "output_type": "stream",
     "text": [
      "[[  0.4330127    0.25        81.14874832]\n",
      " [ -0.25         0.4330127  209.14874832]]\n"
     ]
    }
   ],
   "source": [
    "# scale+rotation+translation = similarity transform 相似变换\n",
    "M = cv2.getRotationMatrix2D((img.shape[1] / 2, img.shape[0] / 2), 30, 0.5) #M旋转参数(center, angle, scale)\n",
    "print(M)\n",
    "img_rotate = cv2.warpAffine(img, M, (img.shape[1], img.shape[0])) #原始图像、变换参数、原始图像宽高\n",
    "\n",
    "M = np.float32([[1, 0, 34], [0, 1, 56]])                                     #M平移参数([[1, 0, x], [0, 1, y]])        \n",
    "img_similarity = cv2.warpAffine(img_rotate, M, (img.shape[1], img.shape[0])) #原始图像、变换参数、原始图像宽高\n",
    "\n",
    "cv2.imshow('similarity_lenna', img_similarity)\n",
    "key = cv2.waitKey(0)\n",
    "if key == 27:\n",
    "    cv2.destroyAllWindows()\n"
   ]
  },
  {
   "cell_type": "code",
   "execution_count": 17,
   "metadata": {},
   "outputs": [],
   "source": [
    "# Affine Transform 仿射变换(原图中直角关系可能发生改变，但原图中的平行关系仍然平行)\n",
    "rows, cols, ch = img.shape #原图的高、宽 以及通道数\n",
    "pts1 = np.float32([[0, 0], [cols - 1, 0], [0, rows - 1]])\n",
    "pts2 = np.float32([[cols * 0.2, rows * 0.1], [cols * 0.9, rows * 0.2], [cols * 0.1, rows * 0.9]])\n",
    " \n",
    "M = cv2.getAffineTransform(pts1, pts2)\n",
    "dst = cv2.warpAffine(img, M, (cols, rows)) #原始图像、变换参数、原始图像宽高\n",
    "\n",
    "cv2.imshow('affine lenna', dst)\n",
    "key = cv2.waitKey(0)\n",
    "if key == 27:\n",
    "    cv2.destroyAllWindows()"
   ]
  },
  {
   "cell_type": "code",
   "execution_count": 18,
   "metadata": {},
   "outputs": [
    {
     "name": "stdout",
     "output_type": "stream",
     "text": [
      "[[ 1.20312368e+00  1.33556220e-01 -5.00700680e+01]\n",
      " [ 2.12603046e-01  1.10812482e+00 -2.84633135e+01]\n",
      " [ 2.66303340e-04  6.18783051e-05  1.00000000e+00]]\n"
     ]
    }
   ],
   "source": [
    "# perspective transform 透视变换(原图中的平行和垂直关系都可能发生改变)\n",
    "def random_warp(img, row, col): #随机透视\n",
    "    height, width, channels = img.shape\n",
    "\n",
    "    # warp:\n",
    "    random_margin = 60\n",
    "    x1 = random.randint(-random_margin, random_margin)\n",
    "    y1 = random.randint(-random_margin, random_margin)\n",
    "    x2 = random.randint(width - random_margin - 1, width - 1)\n",
    "    y2 = random.randint(-random_margin, random_margin)\n",
    "    x3 = random.randint(width - random_margin - 1, width - 1)\n",
    "    y3 = random.randint(height - random_margin - 1, height - 1)\n",
    "    x4 = random.randint(-random_margin, random_margin)\n",
    "    y4 = random.randint(height - random_margin - 1, height - 1)\n",
    "\n",
    "    dx1 = random.randint(-random_margin, random_margin)\n",
    "    dy1 = random.randint(-random_margin, random_margin)\n",
    "    dx2 = random.randint(width - random_margin - 1, width - 1)\n",
    "    dy2 = random.randint(-random_margin, random_margin)\n",
    "    dx3 = random.randint(width - random_margin - 1, width - 1)\n",
    "    dy3 = random.randint(height - random_margin - 1, height - 1)\n",
    "    dx4 = random.randint(-random_margin, random_margin)\n",
    "    dy4 = random.randint(height - random_margin - 1, height - 1)\n",
    "\n",
    "    pts1 = np.float32([[x1, y1], [x2, y2], [x3, y3], [x4, y4]])\n",
    "    pts2 = np.float32([[dx1, dy1], [dx2, dy2], [dx3, dy3], [dx4, dy4]])\n",
    "    M_warp = cv2.getPerspectiveTransform(pts1, pts2)\n",
    "    img_warp = cv2.warpPerspective(img, M_warp, (width, height))\n",
    "    return M_warp, img_warp\n",
    "\n",
    "M_warp, img_warp = random_warp(img, img.shape[0], img.shape[1])\n",
    "cv2.imshow('lenna_warp', img_warp)\n",
    "print (M_warp)\n",
    "\n",
    "key = cv2.waitKey(0)\n",
    "if key == 27:\n",
    "    cv2.destroyAllWindows()"
   ]
  }
 ],
 "metadata": {
  "kernelspec": {
   "display_name": "Python 3",
   "language": "python",
   "name": "python3"
  },
  "language_info": {
   "codemirror_mode": {
    "name": "ipython",
    "version": 3
   },
   "file_extension": ".py",
   "mimetype": "text/x-python",
   "name": "python",
   "nbconvert_exporter": "python",
   "pygments_lexer": "ipython3",
   "version": "3.7.1"
  }
 },
 "nbformat": 4,
 "nbformat_minor": 2
}
